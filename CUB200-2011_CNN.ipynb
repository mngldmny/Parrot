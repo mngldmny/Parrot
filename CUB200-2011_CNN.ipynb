{
 "cells": [
  {
   "cell_type": "code",
   "execution_count": 1,
   "id": "3c2b8ccb",
   "metadata": {},
   "outputs": [],
   "source": [
    "import torch\n",
    "import torchvision\n",
    "from torchvision import datasets, models, transforms\n",
    "import torch.nn as nn\n",
    "import torch.optim as optim\n",
    "from torch.utils.data import DataLoader, random_split\n",
    "import time\n",
    "import os\n",
    "from tqdm import tqdm"
   ]
  },
  {
   "cell_type": "code",
   "execution_count": 2,
   "id": "f750cfe5",
   "metadata": {},
   "outputs": [],
   "source": [
    "# 데이터셋이 위치한 경로\n",
    "# 여러분들이 다운로드 받은 데이터셋의 경로를 찍어주시면 됩니다.\n",
    "data_dir = './dataset'"
   ]
  },
  {
   "cell_type": "code",
   "execution_count": 3,
   "id": "f223b1a4",
   "metadata": {},
   "outputs": [],
   "source": [
    "# 이미지 변환\n",
    "# 이리저리 바꿔보면서 좋은 성능이 나오도록 하시면 됩니다.\n",
    "# 다만 validation은 건들지 말아주세요\n",
    "class GaussianNoise:\n",
    "    def __init__(self, mean=0.0, std=1.0):\n",
    "        self.mean = mean\n",
    "        self.std = std\n",
    "\n",
    "    def __call__(self, tensor):\n",
    "        return tensor + torch.randn(tensor.size()) * self.std + self.mean\n",
    "\n",
    "    def __repr__(self):\n",
    "        return f\"{self.__class__.__name__}(mean={self.mean}, std={self.std})\"\n",
    "    \n",
    "data_transforms = {\n",
    "    'train': transforms.Compose([\n",
    "        transforms.RandomResizedCrop(224),\n",
    "        transforms.RandomHorizontalFlip(),\n",
    "        transforms.GaussianBlur(kernel_size=(5, 9), sigma=(0.1, 5)), #gaussian blur\n",
    "        transforms.RandomRotation(25),\n",
    "        transforms.ColorJitter(brightness=0.1, contrast=0.1, saturation=0.1, hue=0.1),\n",
    "        transforms.ToTensor(),\n",
    "        GaussianNoise(mean=0.0, std=0.1), #gaussian noise\n",
    "        transforms.Normalize([0.485, 0.456, 0.406], [0.229, 0.224, 0.225])\n",
    "    ]),\n",
    "    'val': transforms.Compose([\n",
    "        transforms.Resize(256),\n",
    "        transforms.CenterCrop(224),\n",
    "        transforms.ToTensor(),\n",
    "        transforms.Normalize([0.485, 0.456, 0.406], [0.229, 0.224, 0.225])\n",
    "    ]),\n",
    "}"
   ]
  },
  {
   "cell_type": "code",
   "execution_count": 4,
   "id": "b5567e55",
   "metadata": {},
   "outputs": [],
   "source": [
    "from torch.utils.data import ConcatDataset\n",
    "\n",
    "# 이미지 데이터셋 불러오기\n",
    "train_dataset  = datasets.ImageFolder(os.path.join(data_dir, 'train'), data_transforms['train'])\n",
    "pgd_dataset = datasets.ImageFolder(os.path.join(data_dir, 'valid'), data_transforms['train'])\n",
    "\n",
    "full_dataset = ConcatDataset([train_dataset, pgd_dataset])\n",
    "                                                                                    \n",
    "# 클래스명                                                                      \n",
    "class_names = train_dataset.classes"
   ]
  },
  {
   "cell_type": "code",
   "execution_count": 5,
   "id": "e3c07cfd",
   "metadata": {},
   "outputs": [],
   "source": [
    "# 데이터셋을 train과 valid로 나누기\n",
    "train_size = int(0.7 * len(full_dataset))\n",
    "valid_size = len(full_dataset) - train_size\n",
    "train_dataset, valid_dataset = random_split(full_dataset, [train_size, valid_size])\n",
    "\n",
    "# 데이터 로더\n",
    "# 만약 CUDA out of Memory가 뜬다면\n",
    "# 1. batch_size를 줄이거나,\n",
    "# 2. 모델을 가벼운 걸로 바꾸거나\n",
    "# 3. data_transforms 에서 Resize 부분을 작게해서 이미지 사이즈를 줄여주세요.\n",
    "train_loader = DataLoader(train_dataset, batch_size=64, shuffle=True, num_workers=2)\n",
    "valid_loader = DataLoader(valid_dataset, batch_size=64, shuffle=False, num_workers=2)"
   ]
  },
  {
   "cell_type": "code",
   "execution_count": 6,
   "id": "cd283ee7",
   "metadata": {},
   "outputs": [
    {
     "data": {
      "text/plain": [
       "device(type='cuda', index=0)"
      ]
     },
     "execution_count": 6,
     "metadata": {},
     "output_type": "execute_result"
    }
   ],
   "source": [
    "# GPU 사용 가능 확인\n",
    "# device(type='cuda', index=0) 가 뜬다면 GPU에서 훈련이 가능해지고 더 빨라집니다.\n",
    "device = torch.device(\"cuda:0\" if torch.cuda.is_available() else \"cpu\")\n",
    "device"
   ]
  },
  {
   "cell_type": "code",
   "execution_count": 7,
   "id": "b98f4938",
   "metadata": {},
   "outputs": [],
   "source": [
    "# pretrained 모델 불러오기\n",
    "# 여러분이 원하는 모델을 여기서 설정해주세요\n",
    "from torchvision.models import ResNet101_Weights\n",
    "\n",
    "model = models.resnet101(weights=ResNet101_Weights.DEFAULT)\n",
    "\n",
    "# 새로운 분류기를 마지막 레이어에 추가\n",
    "num_ftrs = model.fc.in_features\n",
    "model.fc = nn.Linear(num_ftrs, len(class_names))\n",
    "\n",
    "# 모델 GPU에 올리기\n",
    "model = model.to(device)"
   ]
  },
  {
   "cell_type": "code",
   "execution_count": 8,
   "id": "45a92ee0",
   "metadata": {},
   "outputs": [],
   "source": [
    "# 손실 함수와 optimizer 설정\n",
    "# optimizer도 다양하게 바꿔가면서 해보시면 좋습니다. 특히 lr (학습률) 관련해서 잘 설정해주세요\n",
    "from torch.optim import Adam\n",
    "\n",
    "criterion = nn.CrossEntropyLoss()\n",
    "optimizer = Adam(model.parameters(), lr=3.98006e-05)\n",
    "\n",
    "# scheduler 설정\n",
    "# torch.optim.lr_scheduler에 보면 다양한 scheduler가 존재합니다. 한번 확인해보고 다양하게 시도해보세요\n",
    "step_lr_scheduler = torch.optim.lr_scheduler.CosineAnnealingLR(optimizer, T_max=10)\n",
    "# epoch 횟수 설정\n",
    "num_epochs=50"
   ]
  },
  {
   "cell_type": "code",
   "execution_count": 9,
   "id": "ef912104",
   "metadata": {},
   "outputs": [
    {
     "name": "stdout",
     "output_type": "stream",
     "text": [
      "Epoch 1/1\n",
      "----------\n"
     ]
    },
    {
     "name": "stderr",
     "output_type": "stream",
     "text": [
      "100% 117/117 [01:36<00:00,  1.21it/s]\n"
     ]
    },
    {
     "name": "stdout",
     "output_type": "stream",
     "text": [
      "train Loss: 5.2803 Acc: 0.0103\n"
     ]
    },
    {
     "name": "stderr",
     "output_type": "stream",
     "text": [
      "100% 50/50 [00:26<00:00,  1.88it/s]"
     ]
    },
    {
     "name": "stdout",
     "output_type": "stream",
     "text": [
      "valid Loss: 5.2189 Acc: 0.0169\n",
      "Training complete\n"
     ]
    },
    {
     "name": "stderr",
     "output_type": "stream",
     "text": [
      "\n"
     ]
    }
   ],
   "source": [
    "# 모델 학습과 평가\n",
    "# 이 부분은 건드셔도 되고 안건드셔도 됩니다.\n",
    "for epoch in range(num_epochs):\n",
    "    print('Epoch {}/{}'.format(epoch+1, num_epochs))\n",
    "    print('-' * 10)\n",
    "    for phase in ['train', 'valid']:\n",
    "        if phase == 'train':\n",
    "            dataloader = train_loader\n",
    "            model.train()\n",
    "        else:\n",
    "            dataloader = valid_loader\n",
    "            model.eval()\n",
    "\n",
    "        running_loss = 0.0\n",
    "        running_corrects = 0\n",
    "\n",
    "        for inputs, labels in tqdm(dataloader):\n",
    "            inputs = inputs.to(device)\n",
    "            labels = labels.to(device)\n",
    "\n",
    "            optimizer.zero_grad()\n",
    "\n",
    "            with torch.set_grad_enabled(phase == 'train'):\n",
    "                outputs = model(inputs)\n",
    "                _, preds = torch.max(outputs, 1)\n",
    "                loss = criterion(outputs, labels)\n",
    "\n",
    "                if phase == 'train':\n",
    "                    loss.backward()\n",
    "                    optimizer.step()\n",
    "\n",
    "            running_loss += loss.item() * inputs.size(0)\n",
    "            running_corrects += torch.sum(preds == labels.data)\n",
    "        if phase == 'train':\n",
    "            step_lr_scheduler.step()\n",
    "\n",
    "        epoch_loss = running_loss / len(dataloader.dataset)\n",
    "        epoch_acc = running_corrects.double() / len(dataloader.dataset)\n",
    "\n",
    "        print('{} Loss: {:.4f} Acc: {:.4f}'.format(\n",
    "            phase, epoch_loss, epoch_acc))\n",
    "\n",
    "print('Training complete')"
   ]
  },
  {
   "cell_type": "code",
   "execution_count": 10,
   "id": "638d1a0c",
   "metadata": {},
   "outputs": [],
   "source": [
    "# 전체 모델 저장하는 부분입니다.\n",
    "# PATH에는 저장할 경로를 지정해주세요\n",
    "PATH = './'\n",
    "torch.save(model, PATH + 'team1_model.pt')"
   ]
  },
  {
   "cell_type": "code",
   "execution_count": 11,
   "id": "697999a0",
   "metadata": {},
   "outputs": [],
   "source": [
    "#model = torch.load('model.pt')\n",
    "#model.eval()  # 평가 모드로 설정\n",
    "#device = torch.device(\"cuda\" if torch.cuda.is_available() else \"cpu\")\n",
    "#model.to(device)"
   ]
  },
  {
   "cell_type": "code",
   "execution_count": 12,
   "id": "03bec520",
   "metadata": {},
   "outputs": [],
   "source": [
    "from torch.utils.data import DataLoader, Dataset  \n",
    "\n",
    "class CustomImageDataset(Dataset):\n",
    "    def __init__(self, root_dir, transform=None):\n",
    "            \n",
    "        self.root_dir = root_dir\n",
    "        self.transform = transform\n",
    "        self.image_files = [os.path.join(root_dir, fname) for fname in os.listdir(root_dir) if fname.endswith(('.jpg', '.jpeg', '.png'))]\n",
    "        \n",
    "    def __len__(self):\n",
    "        return len(self.image_files)\n",
    "\n",
    "    def __getitem__(self, idx):\n",
    "        img_path = self.image_files[idx]\n",
    "        image = Image.open(img_path).convert('RGB')\n",
    "    \n",
    "        if self.transform:\n",
    "            image = self.transform(image)\n",
    "        \n",
    "        return image, img_path  # 이미지와 파일 경로 반환\n"
   ]
  },
  {
   "cell_type": "code",
   "execution_count": 13,
   "id": "81d03d8a",
   "metadata": {},
   "outputs": [],
   "source": [
    "from PIL import Image\n",
    "import pandas as pd\n",
    "\n",
    "test_dataset = CustomImageDataset(root_dir='./Test/Unknown', transform=data_transforms['val'])\n",
    "test_loader = DataLoader(test_dataset, batch_size=64, shuffle=False)\n",
    "\n",
    "# 예측 수행\n",
    "predictions = []\n",
    "file_paths = []\n",
    "for images, paths in test_loader:\n",
    "    images = images.to(device)\n",
    "    with torch.no_grad():\n",
    "        outputs = model(images)\n",
    "        _, preds = torch.max(outputs, 1)\n",
    "        predictions.extend(preds.cpu().numpy())\n",
    "        file_paths.extend(paths)  # 경로 저장\n",
    "\n",
    "# 결과 저장\n",
    "file_names = [os.path.basename(path) for path in file_paths]\n",
    "predicted_labels = [class_names[pred] for pred in predictions] \n",
    "\n",
    "# pandas 데이터프레임으로 저장\n",
    "results_df = pd.DataFrame({\n",
    "    'File Name': file_names,\n",
    "    'Predicted Label': predicted_labels\n",
    "})\n",
    "results_df.to_csv('label_table.csv', index=False)"
   ]
  }
 ],
 "metadata": {
  "kernelspec": {
   "display_name": "PyTorch 2.1 (NGC 23.07/Python 3.10) on Backend.AI",
   "language": "python",
   "name": "python3"
  },
  "language_info": {
   "codemirror_mode": {
    "name": "ipython",
    "version": 3
   },
   "file_extension": ".py",
   "mimetype": "text/x-python",
   "name": "python",
   "nbconvert_exporter": "python",
   "pygments_lexer": "ipython3",
   "version": "3.10.6"
  }
 },
 "nbformat": 4,
 "nbformat_minor": 5
}
